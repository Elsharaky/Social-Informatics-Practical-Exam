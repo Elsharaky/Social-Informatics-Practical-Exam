{
  "cells": [
    {
      "cell_type": "code",
      "execution_count": 1,
      "id": "0d6de6b5",
      "metadata": {
        "execution": {
          "iopub.execute_input": "2024-05-09T18:10:50.174932Z",
          "iopub.status.busy": "2024-05-09T18:10:50.174025Z",
          "iopub.status.idle": "2024-05-09T18:10:52.424682Z",
          "shell.execute_reply": "2024-05-09T18:10:52.423680Z"
        },
        "papermill": {
          "duration": 2.261478,
          "end_time": "2024-05-09T18:10:52.427450",
          "exception": false,
          "start_time": "2024-05-09T18:10:50.165972",
          "status": "completed"
        },
        "tags": []
      },
      "outputs": [],
      "source": [
        "import pandas as pd\n",
        "import matplotlib.pyplot as plt\n",
        "import seaborn as sns\n"
      ]
    },
    {
      "cell_type": "code",
      "execution_count": 2,
      "id": "8efad5e0",
      "metadata": {
        "papermill": {
          "duration": 0.051601,
          "end_time": "2024-05-09T18:10:52.485328",
          "exception": false,
          "start_time": "2024-05-09T18:10:52.433727",
          "status": "completed"
        },
        "tags": [],
        "trusted": true
      },
      "outputs": [],
      "source": [
        "data = pd.read_csv(\"./heart.csv\")"
      ]
    },
    {
      "cell_type": "code",
      "execution_count": 3,
      "id": "20d9f546",
      "metadata": {
        "execution": {
          "iopub.execute_input": "2024-05-09T18:10:52.500197Z",
          "iopub.status.busy": "2024-05-09T18:10:52.499818Z",
          "iopub.status.idle": "2024-05-09T18:10:52.523336Z",
          "shell.execute_reply": "2024-05-09T18:10:52.522037Z"
        },
        "papermill": {
          "duration": 0.033645,
          "end_time": "2024-05-09T18:10:52.525477",
          "exception": false,
          "start_time": "2024-05-09T18:10:52.491832",
          "status": "completed"
        },
        "tags": []
      },
      "outputs": [
        {
          "name": "stdout",
          "output_type": "stream",
          "text": [
            "<class 'pandas.core.frame.DataFrame'>\n",
            "RangeIndex: 303 entries, 0 to 302\n",
            "Data columns (total 14 columns):\n",
            " #   Column    Non-Null Count  Dtype  \n",
            "---  ------    --------------  -----  \n",
            " 0   age       303 non-null    int64  \n",
            " 1   sex       303 non-null    int64  \n",
            " 2   cp        303 non-null    int64  \n",
            " 3   trestbps  303 non-null    int64  \n",
            " 4   chol      303 non-null    int64  \n",
            " 5   fbs       303 non-null    int64  \n",
            " 6   restecg   303 non-null    int64  \n",
            " 7   thalach   303 non-null    int64  \n",
            " 8   exang     303 non-null    int64  \n",
            " 9   oldpeak   303 non-null    float64\n",
            " 10  slope     303 non-null    int64  \n",
            " 11  ca        303 non-null    int64  \n",
            " 12  thal      303 non-null    int64  \n",
            " 13  target    303 non-null    int64  \n",
            "dtypes: float64(1), int64(13)\n",
            "memory usage: 33.3 KB\n"
          ]
        },
        {
          "data": {
            "text/html": [
              "<div>\n",
              "<style scoped>\n",
              "    .dataframe tbody tr th:only-of-type {\n",
              "        vertical-align: middle;\n",
              "    }\n",
              "\n",
              "    .dataframe tbody tr th {\n",
              "        vertical-align: top;\n",
              "    }\n",
              "\n",
              "    .dataframe thead th {\n",
              "        text-align: right;\n",
              "    }\n",
              "</style>\n",
              "<table border=\"1\" class=\"dataframe\">\n",
              "  <thead>\n",
              "    <tr style=\"text-align: right;\">\n",
              "      <th></th>\n",
              "      <th>age</th>\n",
              "      <th>sex</th>\n",
              "      <th>cp</th>\n",
              "      <th>trestbps</th>\n",
              "      <th>chol</th>\n",
              "      <th>fbs</th>\n",
              "      <th>restecg</th>\n",
              "      <th>thalach</th>\n",
              "      <th>exang</th>\n",
              "      <th>oldpeak</th>\n",
              "      <th>slope</th>\n",
              "      <th>ca</th>\n",
              "      <th>thal</th>\n",
              "      <th>target</th>\n",
              "    </tr>\n",
              "  </thead>\n",
              "  <tbody>\n",
              "    <tr>\n",
              "      <th>0</th>\n",
              "      <td>63</td>\n",
              "      <td>1</td>\n",
              "      <td>3</td>\n",
              "      <td>145</td>\n",
              "      <td>233</td>\n",
              "      <td>1</td>\n",
              "      <td>0</td>\n",
              "      <td>150</td>\n",
              "      <td>0</td>\n",
              "      <td>2.3</td>\n",
              "      <td>0</td>\n",
              "      <td>0</td>\n",
              "      <td>1</td>\n",
              "      <td>1</td>\n",
              "    </tr>\n",
              "    <tr>\n",
              "      <th>1</th>\n",
              "      <td>37</td>\n",
              "      <td>1</td>\n",
              "      <td>2</td>\n",
              "      <td>130</td>\n",
              "      <td>250</td>\n",
              "      <td>0</td>\n",
              "      <td>1</td>\n",
              "      <td>187</td>\n",
              "      <td>0</td>\n",
              "      <td>3.5</td>\n",
              "      <td>0</td>\n",
              "      <td>0</td>\n",
              "      <td>2</td>\n",
              "      <td>1</td>\n",
              "    </tr>\n",
              "    <tr>\n",
              "      <th>2</th>\n",
              "      <td>41</td>\n",
              "      <td>0</td>\n",
              "      <td>1</td>\n",
              "      <td>130</td>\n",
              "      <td>204</td>\n",
              "      <td>0</td>\n",
              "      <td>0</td>\n",
              "      <td>172</td>\n",
              "      <td>0</td>\n",
              "      <td>1.4</td>\n",
              "      <td>2</td>\n",
              "      <td>0</td>\n",
              "      <td>2</td>\n",
              "      <td>1</td>\n",
              "    </tr>\n",
              "    <tr>\n",
              "      <th>3</th>\n",
              "      <td>56</td>\n",
              "      <td>1</td>\n",
              "      <td>1</td>\n",
              "      <td>120</td>\n",
              "      <td>236</td>\n",
              "      <td>0</td>\n",
              "      <td>1</td>\n",
              "      <td>178</td>\n",
              "      <td>0</td>\n",
              "      <td>0.8</td>\n",
              "      <td>2</td>\n",
              "      <td>0</td>\n",
              "      <td>2</td>\n",
              "      <td>1</td>\n",
              "    </tr>\n",
              "    <tr>\n",
              "      <th>4</th>\n",
              "      <td>57</td>\n",
              "      <td>0</td>\n",
              "      <td>0</td>\n",
              "      <td>120</td>\n",
              "      <td>354</td>\n",
              "      <td>0</td>\n",
              "      <td>1</td>\n",
              "      <td>163</td>\n",
              "      <td>1</td>\n",
              "      <td>0.6</td>\n",
              "      <td>2</td>\n",
              "      <td>0</td>\n",
              "      <td>2</td>\n",
              "      <td>1</td>\n",
              "    </tr>\n",
              "  </tbody>\n",
              "</table>\n",
              "</div>"
            ],
            "text/plain": [
              "   age  sex  cp  trestbps  chol  fbs  restecg  thalach  exang  oldpeak  slope  \\\n",
              "0   63    1   3       145   233    1        0      150      0      2.3      0   \n",
              "1   37    1   2       130   250    0        1      187      0      3.5      0   \n",
              "2   41    0   1       130   204    0        0      172      0      1.4      2   \n",
              "3   56    1   1       120   236    0        1      178      0      0.8      2   \n",
              "4   57    0   0       120   354    0        1      163      1      0.6      2   \n",
              "\n",
              "   ca  thal  target  \n",
              "0   0     1       1  \n",
              "1   0     2       1  \n",
              "2   0     2       1  \n",
              "3   0     2       1  \n",
              "4   0     2       1  "
            ]
          },
          "execution_count": 3,
          "metadata": {},
          "output_type": "execute_result"
        }
      ],
      "source": [
        "data.info()\n",
        "data.head()"
      ]
    },
    {
      "cell_type": "code",
      "execution_count": 4,
      "id": "71653736",
      "metadata": {
        "execution": {
          "iopub.execute_input": "2024-05-09T18:10:52.591545Z",
          "iopub.status.busy": "2024-05-09T18:10:52.590862Z",
          "iopub.status.idle": "2024-05-09T18:10:52.598738Z",
          "shell.execute_reply": "2024-05-09T18:10:52.597682Z"
        },
        "papermill": {
          "duration": 0.018362,
          "end_time": "2024-05-09T18:10:52.600912",
          "exception": false,
          "start_time": "2024-05-09T18:10:52.582550",
          "status": "completed"
        },
        "tags": []
      },
      "outputs": [
        {
          "data": {
            "text/plain": [
              "age         0\n",
              "sex         0\n",
              "cp          0\n",
              "trestbps    0\n",
              "chol        0\n",
              "fbs         0\n",
              "restecg     0\n",
              "thalach     0\n",
              "exang       0\n",
              "oldpeak     0\n",
              "slope       0\n",
              "ca          0\n",
              "thal        0\n",
              "target      0\n",
              "dtype: int64"
            ]
          },
          "execution_count": 4,
          "metadata": {},
          "output_type": "execute_result"
        }
      ],
      "source": [
        "# Checking for messing values\n",
        "data.isna().sum()"
      ]
    },
    {
      "cell_type": "markdown",
      "id": "66838c87",
      "metadata": {},
      "source": [
        "# Normalizing data\n",
        "\n",
        "We use Min Max normalization technique.\n"
      ]
    },
    {
      "cell_type": "code",
      "execution_count": 5,
      "id": "86e0f031",
      "metadata": {
        "execution": {
          "iopub.execute_input": "2024-05-09T18:10:52.766956Z",
          "iopub.status.busy": "2024-05-09T18:10:52.766224Z",
          "iopub.status.idle": "2024-05-09T18:10:53.005777Z",
          "shell.execute_reply": "2024-05-09T18:10:53.004621Z"
        },
        "papermill": {
          "duration": 0.25151,
          "end_time": "2024-05-09T18:10:53.008425",
          "exception": false,
          "start_time": "2024-05-09T18:10:52.756915",
          "status": "completed"
        },
        "tags": []
      },
      "outputs": [],
      "source": [
        "from sklearn.preprocessing import MinMaxScaler\n",
        "\n",
        "scaler = MinMaxScaler()\n",
        "data = pd.DataFrame(scaler.fit_transform(data), columns=data.columns)\n",
        "data[\"target\"] = data[\"target\"].astype(\"int64\")"
      ]
    },
    {
      "cell_type": "code",
      "execution_count": 6,
      "id": "76314c44",
      "metadata": {
        "execution": {
          "iopub.execute_input": "2024-05-09T18:10:53.026013Z",
          "iopub.status.busy": "2024-05-09T18:10:53.025637Z",
          "iopub.status.idle": "2024-05-09T18:10:53.051981Z",
          "shell.execute_reply": "2024-05-09T18:10:53.050805Z"
        },
        "papermill": {
          "duration": 0.03803,
          "end_time": "2024-05-09T18:10:53.054477",
          "exception": false,
          "start_time": "2024-05-09T18:10:53.016447",
          "status": "completed"
        },
        "tags": []
      },
      "outputs": [
        {
          "data": {
            "text/html": [
              "<div>\n",
              "<style scoped>\n",
              "    .dataframe tbody tr th:only-of-type {\n",
              "        vertical-align: middle;\n",
              "    }\n",
              "\n",
              "    .dataframe tbody tr th {\n",
              "        vertical-align: top;\n",
              "    }\n",
              "\n",
              "    .dataframe thead th {\n",
              "        text-align: right;\n",
              "    }\n",
              "</style>\n",
              "<table border=\"1\" class=\"dataframe\">\n",
              "  <thead>\n",
              "    <tr style=\"text-align: right;\">\n",
              "      <th></th>\n",
              "      <th>age</th>\n",
              "      <th>sex</th>\n",
              "      <th>cp</th>\n",
              "      <th>trestbps</th>\n",
              "      <th>chol</th>\n",
              "      <th>fbs</th>\n",
              "      <th>restecg</th>\n",
              "      <th>thalach</th>\n",
              "      <th>exang</th>\n",
              "      <th>oldpeak</th>\n",
              "      <th>slope</th>\n",
              "      <th>ca</th>\n",
              "      <th>thal</th>\n",
              "      <th>target</th>\n",
              "    </tr>\n",
              "  </thead>\n",
              "  <tbody>\n",
              "    <tr>\n",
              "      <th>0</th>\n",
              "      <td>0.708333</td>\n",
              "      <td>1.0</td>\n",
              "      <td>1.000000</td>\n",
              "      <td>0.481132</td>\n",
              "      <td>0.244292</td>\n",
              "      <td>1.0</td>\n",
              "      <td>0.0</td>\n",
              "      <td>0.603053</td>\n",
              "      <td>0.0</td>\n",
              "      <td>0.370968</td>\n",
              "      <td>0.0</td>\n",
              "      <td>0.0</td>\n",
              "      <td>0.333333</td>\n",
              "      <td>1</td>\n",
              "    </tr>\n",
              "    <tr>\n",
              "      <th>1</th>\n",
              "      <td>0.166667</td>\n",
              "      <td>1.0</td>\n",
              "      <td>0.666667</td>\n",
              "      <td>0.339623</td>\n",
              "      <td>0.283105</td>\n",
              "      <td>0.0</td>\n",
              "      <td>0.5</td>\n",
              "      <td>0.885496</td>\n",
              "      <td>0.0</td>\n",
              "      <td>0.564516</td>\n",
              "      <td>0.0</td>\n",
              "      <td>0.0</td>\n",
              "      <td>0.666667</td>\n",
              "      <td>1</td>\n",
              "    </tr>\n",
              "    <tr>\n",
              "      <th>2</th>\n",
              "      <td>0.250000</td>\n",
              "      <td>0.0</td>\n",
              "      <td>0.333333</td>\n",
              "      <td>0.339623</td>\n",
              "      <td>0.178082</td>\n",
              "      <td>0.0</td>\n",
              "      <td>0.0</td>\n",
              "      <td>0.770992</td>\n",
              "      <td>0.0</td>\n",
              "      <td>0.225806</td>\n",
              "      <td>1.0</td>\n",
              "      <td>0.0</td>\n",
              "      <td>0.666667</td>\n",
              "      <td>1</td>\n",
              "    </tr>\n",
              "    <tr>\n",
              "      <th>3</th>\n",
              "      <td>0.562500</td>\n",
              "      <td>1.0</td>\n",
              "      <td>0.333333</td>\n",
              "      <td>0.245283</td>\n",
              "      <td>0.251142</td>\n",
              "      <td>0.0</td>\n",
              "      <td>0.5</td>\n",
              "      <td>0.816794</td>\n",
              "      <td>0.0</td>\n",
              "      <td>0.129032</td>\n",
              "      <td>1.0</td>\n",
              "      <td>0.0</td>\n",
              "      <td>0.666667</td>\n",
              "      <td>1</td>\n",
              "    </tr>\n",
              "    <tr>\n",
              "      <th>4</th>\n",
              "      <td>0.583333</td>\n",
              "      <td>0.0</td>\n",
              "      <td>0.000000</td>\n",
              "      <td>0.245283</td>\n",
              "      <td>0.520548</td>\n",
              "      <td>0.0</td>\n",
              "      <td>0.5</td>\n",
              "      <td>0.702290</td>\n",
              "      <td>1.0</td>\n",
              "      <td>0.096774</td>\n",
              "      <td>1.0</td>\n",
              "      <td>0.0</td>\n",
              "      <td>0.666667</td>\n",
              "      <td>1</td>\n",
              "    </tr>\n",
              "  </tbody>\n",
              "</table>\n",
              "</div>"
            ],
            "text/plain": [
              "        age  sex        cp  trestbps      chol  fbs  restecg   thalach  exang  \\\n",
              "0  0.708333  1.0  1.000000  0.481132  0.244292  1.0      0.0  0.603053    0.0   \n",
              "1  0.166667  1.0  0.666667  0.339623  0.283105  0.0      0.5  0.885496    0.0   \n",
              "2  0.250000  0.0  0.333333  0.339623  0.178082  0.0      0.0  0.770992    0.0   \n",
              "3  0.562500  1.0  0.333333  0.245283  0.251142  0.0      0.5  0.816794    0.0   \n",
              "4  0.583333  0.0  0.000000  0.245283  0.520548  0.0      0.5  0.702290    1.0   \n",
              "\n",
              "    oldpeak  slope   ca      thal  target  \n",
              "0  0.370968    0.0  0.0  0.333333       1  \n",
              "1  0.564516    0.0  0.0  0.666667       1  \n",
              "2  0.225806    1.0  0.0  0.666667       1  \n",
              "3  0.129032    1.0  0.0  0.666667       1  \n",
              "4  0.096774    1.0  0.0  0.666667       1  "
            ]
          },
          "execution_count": 6,
          "metadata": {},
          "output_type": "execute_result"
        }
      ],
      "source": [
        "data.head()"
      ]
    },
    {
      "cell_type": "markdown",
      "id": "5810a8de",
      "metadata": {},
      "source": [
        "# Spliting data into training and testing.\n"
      ]
    },
    {
      "cell_type": "code",
      "execution_count": 7,
      "id": "ccd92f03",
      "metadata": {},
      "outputs": [],
      "source": [
        "from sklearn.model_selection import train_test_split\n",
        "x = data.drop(\"target\",axis=1)\n",
        "y = data[\"target\"]\n",
        "\n",
        "x_train,x_test,y_train,y_test = train_test_split(x,y,random_state=1,test_size=0.3)"
      ]
    },
    {
      "cell_type": "markdown",
      "id": "e361c3f2",
      "metadata": {},
      "source": [
        "# Create a function that creates a seaborn heatmap from a confusion matrix.\n"
      ]
    },
    {
      "cell_type": "code",
      "execution_count": 8,
      "id": "13f1fef4",
      "metadata": {},
      "outputs": [],
      "source": [
        "from sklearn.metrics import confusion_matrix\n",
        "def plot_confusionMatrix(y_true,y_pred):\n",
        "    cn = confusion_matrix(y_true=y_true,y_pred=y_pred)\n",
        "    \n",
        "    fig,ax = plt.subplots(figsize=(5,5))\n",
        "    sns.heatmap(cn,annot=True,linewidths=1.5)\n",
        "    plt.show()\n",
        "    return cn"
      ]
    },
    {
      "cell_type": "code",
      "execution_count": 9,
      "id": "d4dc5c5e",
      "metadata": {},
      "outputs": [],
      "source": [
        "score_list = {} # This dict will save the score values to display it at the end."
      ]
    },
    {
      "cell_type": "markdown",
      "id": "1aa41adf",
      "metadata": {},
      "source": [
        "# KNN Classification\n"
      ]
    },
    {
      "cell_type": "code",
      "execution_count": 10,
      "id": "61c39881",
      "metadata": {},
      "outputs": [
        {
          "name": "stdout",
          "output_type": "stream",
          "text": [
            "Score is 0.7582417582417582\n"
          ]
        }
      ],
      "source": [
        "from sklearn.neighbors import KNeighborsClassifier \n",
        "KNN = KNeighborsClassifier(n_neighbors=22)\n",
        "\n",
        "KNN.fit(x_train,y_train)\n",
        "knn_score = KNN.score(x_test,y_test)\n",
        "score_list[\"KNN Classifier\"] = knn_score\n",
        "print(f\"Score is {knn_score}\")"
      ]
    },
    {
      "cell_type": "markdown",
      "id": "74d6d908",
      "metadata": {},
      "source": [
        "KNN score is 75%\n"
      ]
    },
    {
      "cell_type": "code",
      "execution_count": 11,
      "id": "3fc44543",
      "metadata": {},
      "outputs": [
        {
          "data": {
            "image/png": "[encoded data removed]",
            "text/plain": [
              "<Figure size 500x500 with 2 Axes>"
            ]
          },
          "metadata": {},
          "output_type": "display_data"
        },
        {
          "data": {
            "text/plain": [
              "array([[29, 12],\n",
              "       [10, 40]], dtype=int64)"
            ]
          },
          "execution_count": 11,
          "metadata": {},
          "output_type": "execute_result"
        }
      ],
      "source": [
        "y_true = y_test\n",
        "y_pred = KNN.predict(x_test)\n",
        "plot_confusionMatrix(y_true,y_pred)"
      ]
    },
    {
      "cell_type": "markdown",
      "id": "16a21bc5",
      "metadata": {},
      "source": [
        "# SVM Classification\n"
      ]
    },
    {
      "cell_type": "code",
      "execution_count": 12,
      "id": "ae69b56d",
      "metadata": {},
      "outputs": [
        {
          "name": "stdout",
          "output_type": "stream",
          "text": [
            "Score is 0.7472527472527473\n"
          ]
        }
      ],
      "source": [
        "from sklearn.svm import SVC \n",
        "\n",
        "svc = SVC()\n",
        "svc.fit(x_train,y_train)\n",
        "svc_score = svc.score(x_test,y_test)\n",
        "score_list[\"SVC\"] = svc_score\n",
        "print(f\"Score is {svc_score}\")"
      ]
    },
    {
      "cell_type": "markdown",
      "id": "550ac074",
      "metadata": {},
      "source": [
        "SVM score is 74%\n"
      ]
    },
    {
      "cell_type": "code",
      "execution_count": 13,
      "id": "0951d366",
      "metadata": {},
      "outputs": [
        {
          "data": {
            "image/png": "[encoded data removed]",
            "text/plain": [
              "<Figure size 500x500 with 2 Axes>"
            ]
          },
          "metadata": {},
          "output_type": "display_data"
        },
        {
          "data": {
            "text/plain": [
              "array([[30, 11],\n",
              "       [12, 38]], dtype=int64)"
            ]
          },
          "execution_count": 13,
          "metadata": {},
          "output_type": "execute_result"
        }
      ],
      "source": [
        "y_true = y_test\n",
        "y_pred = svc.predict(x_test)\n",
        "plot_confusionMatrix(y_true,y_pred)"
      ]
    },
    {
      "cell_type": "markdown",
      "id": "840973c8",
      "metadata": {},
      "source": [
        "# Random Forest Classification\n"
      ]
    },
    {
      "cell_type": "code",
      "execution_count": null,
      "id": "8c50e916",
      "metadata": {},
      "outputs": [
        {
          "name": "stdout",
          "output_type": "stream",
          "text": [
            "Score is 0.7362637362637363\n"
          ]
        }
      ],
      "source": [
        "from sklearn.ensemble import RandomForestClassifier\n",
        "\n",
        "rfc = RandomForestClassifier(n_estimators=50,random_state=1)\n",
        "rfc.fit(x_train,y_train)\n",
        "rfc_score = rfc.score(x_test,y_test)\n",
        "score_list[\"RFC\"]=rfc_score\n",
        "\n",
        "print(f\"Score is {rfc_score}\")"
      ]
    },
    {
      "cell_type": "markdown",
      "id": "ada68b32",
      "metadata": {},
      "source": [
        "Random Forest score is 73%\n"
      ]
    },
    {
      "cell_type": "code",
      "execution_count": null,
      "id": "2cdb5c7d",
      "metadata": {},
      "outputs": [
        {
          "data": {
            "image/png": "[encoded data removed]",
            "text/plain": [
              "<Figure size 500x500 with 2 Axes>"
            ]
          },
          "metadata": {},
          "output_type": "display_data"
        },
        {
          "data": {
            "text/plain": [
              "array([[30, 11],\n",
              "       [13, 37]], dtype=int64)"
            ]
          },
          "metadata": {},
          "output_type": "display_data"
        }
      ],
      "source": [
        "y_true = y_test\n",
        "y_pred = rfc.predict(x_test)\n",
        "plot_confusionMatrix(y_true,y_pred)"
      ]
    },
    {
      "cell_type": "markdown",
      "id": "9fc1ea09",
      "metadata": {},
      "source": [
        "# Final Score\n"
      ]
    },
    {
      "cell_type": "code",
      "execution_count": null,
      "id": "16a4021e",
      "metadata": {},
      "outputs": [
        {
          "name": "stdout",
          "output_type": "stream",
          "text": [
            "KNN Classifier Score is 0.75 \n",
            "SVC Score is 0.74 \n",
            "RFC Score is 0.73 \n"
          ]
        }
      ],
      "source": [
        "score_list = list(score_list.items())\n",
        "for alg,score in score_list:\n",
        "    print(f\"{alg} Score is {str(score)[:4]} \")"
      ]
    },
    {
      "cell_type": "markdown",
      "id": "fedf18d7",
      "metadata": {},
      "source": [
        "# Some Visualizations\n"
      ]
    },
    {
      "cell_type": "code",
      "execution_count": null,
      "id": "e3f86a7f",
      "metadata": {},
      "outputs": [
        {
          "data": {
            "image/png": "[encoded data removed]",
            "text/plain": [
              "<Figure size 1500x500 with 3 Axes>"
            ]
          },
          "metadata": {},
          "output_type": "display_data"
        }
      ],
      "source": [
        "import matplotlib.pyplot as plt\n",
        "import seaborn as sns\n",
        "\n",
        "ig, axs = plt.subplots(1, 3, figsize=(15, 5))\n",
        "\n",
        "sns.histplot(data['cp'], ax=axs[0])\n",
        "axs[0].set_title('Histogram of cp')\n",
        "\n",
        "sns.scatterplot(data=data, x='cp', y='trestbps', ax=axs[1])\n",
        "axs[1].set_title('Scatter Plot of cp, trestbps')\n",
        "\n",
        "sns.countplot(data=data, x='cp', ax=axs[2])\n",
        "axs[2].set_title('Bar Chart of cp')\n",
        "\n",
        "plt.tight_layout()\n",
        "plt.show()"
      ]
    }
  ],
  "metadata": {
    "kaggle": {
      "accelerator": "none",
      "dataSources": [
        {
          "datasetId": 33180,
          "sourceId": 43520,
          "sourceType": "datasetVersion"
        }
      ],
      "isGpuEnabled": false,
      "isInternetEnabled": true,
      "language": "python",
      "sourceType": "notebook"
    },
    "kernelspec": {
      "display_name": ".venv",
      "language": "python",
      "name": "python3"
    },
    "language_info": {
      "codemirror_mode": {
        "name": "ipython",
        "version": 3
      },
      "file_extension": ".py",
      "mimetype": "text/x-python",
      "name": "python",
      "nbconvert_exporter": "python",
      "pygments_lexer": "ipython3",
      "version": "3.11.7"
    },
    "papermill": {
      "default_parameters": {},
      "duration": 9.422468,
      "end_time": "2024-05-09T18:10:56.830035",
      "environment_variables": {},
      "exception": null,
      "input_path": "__notebook__.ipynb",
      "output_path": "__notebook__.ipynb",
      "parameters": {},
      "start_time": "2024-05-09T18:10:47.407567",
      "version": "2.5.0"
    }
  },
  "nbformat": 4,
  "nbformat_minor": 5
}
